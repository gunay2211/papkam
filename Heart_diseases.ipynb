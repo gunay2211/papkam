{
 "cells": [
  {
   "cell_type": "code",
   "execution_count": 14,
   "id": "ce0887bb",
   "metadata": {},
   "outputs": [],
   "source": [
    "import seaborn as sns\n",
    "import sys\n",
    "import pandas as pd\n",
    "import numpy as np\n",
    "import sklearn\n",
    "from sklearn import model_selection\n",
    "from sklearn.metrics import classification_report, accuracy_score\n",
    "from sklearn.preprocessing import StandardScaler, LabelEncoder\n",
    "from sklearn.model_selection import train_test_split\n",
    "import matplotlib\n",
    "import matplotlib.pyplot as plt"
   ]
  },
  {
   "cell_type": "code",
   "execution_count": 15,
   "id": "104a87bd",
   "metadata": {},
   "outputs": [],
   "source": [
    "df = pd.read_csv(r'C:\\Users\\Orxan\\OneDrive\\Desktop\\Python\\heart_disease_dataset.csv', delimiter=\";\" ) "
   ]
  },
  {
   "cell_type": "code",
   "execution_count": 16,
   "id": "68f03091",
   "metadata": {},
   "outputs": [
    {
     "data": {
      "text/html": [
       "<div>\n",
       "<style scoped>\n",
       "    .dataframe tbody tr th:only-of-type {\n",
       "        vertical-align: middle;\n",
       "    }\n",
       "\n",
       "    .dataframe tbody tr th {\n",
       "        vertical-align: top;\n",
       "    }\n",
       "\n",
       "    .dataframe thead th {\n",
       "        text-align: right;\n",
       "    }\n",
       "</style>\n",
       "<table border=\"1\" class=\"dataframe\">\n",
       "  <thead>\n",
       "    <tr style=\"text-align: right;\">\n",
       "      <th></th>\n",
       "      <th>age</th>\n",
       "      <th>sex</th>\n",
       "      <th>chest_pain_type</th>\n",
       "      <th>resting_blood_pressure</th>\n",
       "      <th>cholesterol</th>\n",
       "      <th>fasting_blood_sugar</th>\n",
       "      <th>rest_ecg</th>\n",
       "      <th>max_heart_rate_achieved</th>\n",
       "      <th>exercise_induced_angina</th>\n",
       "      <th>st_depression</th>\n",
       "      <th>st_slope</th>\n",
       "      <th>num_major_vessels</th>\n",
       "      <th>thalassemia</th>\n",
       "      <th>target</th>\n",
       "    </tr>\n",
       "  </thead>\n",
       "  <tbody>\n",
       "    <tr>\n",
       "      <th>0</th>\n",
       "      <td>63</td>\n",
       "      <td>1</td>\n",
       "      <td>3</td>\n",
       "      <td>145</td>\n",
       "      <td>233</td>\n",
       "      <td>1</td>\n",
       "      <td>0</td>\n",
       "      <td>150</td>\n",
       "      <td>0</td>\n",
       "      <td>2.3</td>\n",
       "      <td>0</td>\n",
       "      <td>0</td>\n",
       "      <td>1</td>\n",
       "      <td>1</td>\n",
       "    </tr>\n",
       "    <tr>\n",
       "      <th>1</th>\n",
       "      <td>37</td>\n",
       "      <td>1</td>\n",
       "      <td>2</td>\n",
       "      <td>130</td>\n",
       "      <td>250</td>\n",
       "      <td>0</td>\n",
       "      <td>1</td>\n",
       "      <td>187</td>\n",
       "      <td>0</td>\n",
       "      <td>3.5</td>\n",
       "      <td>0</td>\n",
       "      <td>0</td>\n",
       "      <td>2</td>\n",
       "      <td>1</td>\n",
       "    </tr>\n",
       "    <tr>\n",
       "      <th>2</th>\n",
       "      <td>41</td>\n",
       "      <td>0</td>\n",
       "      <td>1</td>\n",
       "      <td>130</td>\n",
       "      <td>204</td>\n",
       "      <td>0</td>\n",
       "      <td>0</td>\n",
       "      <td>172</td>\n",
       "      <td>0</td>\n",
       "      <td>1.4</td>\n",
       "      <td>2</td>\n",
       "      <td>0</td>\n",
       "      <td>2</td>\n",
       "      <td>1</td>\n",
       "    </tr>\n",
       "    <tr>\n",
       "      <th>3</th>\n",
       "      <td>56</td>\n",
       "      <td>1</td>\n",
       "      <td>1</td>\n",
       "      <td>120</td>\n",
       "      <td>236</td>\n",
       "      <td>0</td>\n",
       "      <td>1</td>\n",
       "      <td>178</td>\n",
       "      <td>0</td>\n",
       "      <td>0.8</td>\n",
       "      <td>2</td>\n",
       "      <td>0</td>\n",
       "      <td>2</td>\n",
       "      <td>1</td>\n",
       "    </tr>\n",
       "    <tr>\n",
       "      <th>4</th>\n",
       "      <td>57</td>\n",
       "      <td>0</td>\n",
       "      <td>0</td>\n",
       "      <td>120</td>\n",
       "      <td>354</td>\n",
       "      <td>0</td>\n",
       "      <td>1</td>\n",
       "      <td>163</td>\n",
       "      <td>1</td>\n",
       "      <td>0.6</td>\n",
       "      <td>2</td>\n",
       "      <td>0</td>\n",
       "      <td>2</td>\n",
       "      <td>1</td>\n",
       "    </tr>\n",
       "    <tr>\n",
       "      <th>5</th>\n",
       "      <td>57</td>\n",
       "      <td>1</td>\n",
       "      <td>0</td>\n",
       "      <td>140</td>\n",
       "      <td>192</td>\n",
       "      <td>0</td>\n",
       "      <td>1</td>\n",
       "      <td>148</td>\n",
       "      <td>0</td>\n",
       "      <td>0.4</td>\n",
       "      <td>1</td>\n",
       "      <td>0</td>\n",
       "      <td>1</td>\n",
       "      <td>1</td>\n",
       "    </tr>\n",
       "    <tr>\n",
       "      <th>6</th>\n",
       "      <td>56</td>\n",
       "      <td>0</td>\n",
       "      <td>1</td>\n",
       "      <td>140</td>\n",
       "      <td>294</td>\n",
       "      <td>0</td>\n",
       "      <td>0</td>\n",
       "      <td>153</td>\n",
       "      <td>0</td>\n",
       "      <td>1.3</td>\n",
       "      <td>1</td>\n",
       "      <td>0</td>\n",
       "      <td>2</td>\n",
       "      <td>1</td>\n",
       "    </tr>\n",
       "    <tr>\n",
       "      <th>7</th>\n",
       "      <td>44</td>\n",
       "      <td>1</td>\n",
       "      <td>1</td>\n",
       "      <td>120</td>\n",
       "      <td>263</td>\n",
       "      <td>0</td>\n",
       "      <td>1</td>\n",
       "      <td>173</td>\n",
       "      <td>0</td>\n",
       "      <td>0.0</td>\n",
       "      <td>2</td>\n",
       "      <td>0</td>\n",
       "      <td>3</td>\n",
       "      <td>1</td>\n",
       "    </tr>\n",
       "    <tr>\n",
       "      <th>8</th>\n",
       "      <td>52</td>\n",
       "      <td>1</td>\n",
       "      <td>2</td>\n",
       "      <td>172</td>\n",
       "      <td>199</td>\n",
       "      <td>1</td>\n",
       "      <td>1</td>\n",
       "      <td>162</td>\n",
       "      <td>0</td>\n",
       "      <td>0.5</td>\n",
       "      <td>2</td>\n",
       "      <td>0</td>\n",
       "      <td>3</td>\n",
       "      <td>1</td>\n",
       "    </tr>\n",
       "    <tr>\n",
       "      <th>9</th>\n",
       "      <td>57</td>\n",
       "      <td>1</td>\n",
       "      <td>2</td>\n",
       "      <td>150</td>\n",
       "      <td>168</td>\n",
       "      <td>0</td>\n",
       "      <td>1</td>\n",
       "      <td>174</td>\n",
       "      <td>0</td>\n",
       "      <td>1.6</td>\n",
       "      <td>2</td>\n",
       "      <td>0</td>\n",
       "      <td>2</td>\n",
       "      <td>1</td>\n",
       "    </tr>\n",
       "  </tbody>\n",
       "</table>\n",
       "</div>"
      ],
      "text/plain": [
       "   age  sex  chest_pain_type  resting_blood_pressure  cholesterol  \\\n",
       "0   63    1                3                     145          233   \n",
       "1   37    1                2                     130          250   \n",
       "2   41    0                1                     130          204   \n",
       "3   56    1                1                     120          236   \n",
       "4   57    0                0                     120          354   \n",
       "5   57    1                0                     140          192   \n",
       "6   56    0                1                     140          294   \n",
       "7   44    1                1                     120          263   \n",
       "8   52    1                2                     172          199   \n",
       "9   57    1                2                     150          168   \n",
       "\n",
       "   fasting_blood_sugar  rest_ecg  max_heart_rate_achieved  \\\n",
       "0                    1         0                      150   \n",
       "1                    0         1                      187   \n",
       "2                    0         0                      172   \n",
       "3                    0         1                      178   \n",
       "4                    0         1                      163   \n",
       "5                    0         1                      148   \n",
       "6                    0         0                      153   \n",
       "7                    0         1                      173   \n",
       "8                    1         1                      162   \n",
       "9                    0         1                      174   \n",
       "\n",
       "   exercise_induced_angina  st_depression  st_slope  num_major_vessels  \\\n",
       "0                        0            2.3         0                  0   \n",
       "1                        0            3.5         0                  0   \n",
       "2                        0            1.4         2                  0   \n",
       "3                        0            0.8         2                  0   \n",
       "4                        1            0.6         2                  0   \n",
       "5                        0            0.4         1                  0   \n",
       "6                        0            1.3         1                  0   \n",
       "7                        0            0.0         2                  0   \n",
       "8                        0            0.5         2                  0   \n",
       "9                        0            1.6         2                  0   \n",
       "\n",
       "   thalassemia  target  \n",
       "0            1       1  \n",
       "1            2       1  \n",
       "2            2       1  \n",
       "3            2       1  \n",
       "4            2       1  \n",
       "5            1       1  \n",
       "6            2       1  \n",
       "7            3       1  \n",
       "8            3       1  \n",
       "9            2       1  "
      ]
     },
     "execution_count": 16,
     "metadata": {},
     "output_type": "execute_result"
    }
   ],
   "source": [
    "df.head(10)"
   ]
  },
  {
   "cell_type": "code",
   "execution_count": 17,
   "id": "12735dce",
   "metadata": {},
   "outputs": [
    {
     "data": {
      "text/plain": [
       "Index(['age', 'sex', 'chest_pain_type', 'resting_blood_pressure',\n",
       "       'cholesterol', 'fasting_blood_sugar', 'rest_ecg',\n",
       "       'max_heart_rate_achieved', 'exercise_induced_angina', 'st_depression',\n",
       "       'st_slope', 'num_major_vessels', 'thalassemia', 'target'],\n",
       "      dtype='object')"
      ]
     },
     "execution_count": 17,
     "metadata": {},
     "output_type": "execute_result"
    }
   ],
   "source": [
    "df.columns"
   ]
  },
  {
   "cell_type": "code",
   "execution_count": 18,
   "id": "f69ed4ea",
   "metadata": {},
   "outputs": [
    {
     "data": {
      "text/plain": [
       "(303, 14)"
      ]
     },
     "execution_count": 18,
     "metadata": {},
     "output_type": "execute_result"
    }
   ],
   "source": [
    "df.shape\n"
   ]
  },
  {
   "cell_type": "code",
   "execution_count": null,
   "id": "fa024f43",
   "metadata": {},
   "outputs": [],
   "source": []
  },
  {
   "cell_type": "code",
   "execution_count": 19,
   "id": "99f8cdd5",
   "metadata": {},
   "outputs": [
    {
     "name": "stdout",
     "output_type": "stream",
     "text": [
      "<class 'pandas.core.frame.DataFrame'>\n",
      "RangeIndex: 303 entries, 0 to 302\n",
      "Data columns (total 14 columns):\n",
      " #   Column                   Non-Null Count  Dtype  \n",
      "---  ------                   --------------  -----  \n",
      " 0   age                      303 non-null    int64  \n",
      " 1   sex                      303 non-null    int64  \n",
      " 2   chest_pain_type          303 non-null    int64  \n",
      " 3   resting_blood_pressure   303 non-null    int64  \n",
      " 4   cholesterol              303 non-null    int64  \n",
      " 5   fasting_blood_sugar      303 non-null    int64  \n",
      " 6   rest_ecg                 303 non-null    int64  \n",
      " 7   max_heart_rate_achieved  303 non-null    int64  \n",
      " 8   exercise_induced_angina  303 non-null    int64  \n",
      " 9   st_depression            303 non-null    float64\n",
      " 10  st_slope                 303 non-null    int64  \n",
      " 11  num_major_vessels        303 non-null    int64  \n",
      " 12  thalassemia              303 non-null    int64  \n",
      " 13  target                   303 non-null    int64  \n",
      "dtypes: float64(1), int64(13)\n",
      "memory usage: 33.3 KB\n"
     ]
    }
   ],
   "source": [
    "df.info()"
   ]
  },
  {
   "cell_type": "code",
   "execution_count": 20,
   "id": "2ee18124",
   "metadata": {},
   "outputs": [
    {
     "data": {
      "text/plain": [
       "age                        0\n",
       "sex                        0\n",
       "chest_pain_type            0\n",
       "resting_blood_pressure     0\n",
       "cholesterol                0\n",
       "fasting_blood_sugar        0\n",
       "rest_ecg                   0\n",
       "max_heart_rate_achieved    0\n",
       "exercise_induced_angina    0\n",
       "st_depression              0\n",
       "st_slope                   0\n",
       "num_major_vessels          0\n",
       "thalassemia                0\n",
       "target                     0\n",
       "dtype: int64"
      ]
     },
     "execution_count": 20,
     "metadata": {},
     "output_type": "execute_result"
    }
   ],
   "source": [
    "df.isnull().sum()"
   ]
  },
  {
   "cell_type": "code",
   "execution_count": 21,
   "id": "574e73fc",
   "metadata": {},
   "outputs": [],
   "source": [
    "df = df.dropna()  # Remove any rows with missing values"
   ]
  },
  {
   "cell_type": "code",
   "execution_count": 23,
   "id": "69f7cf78",
   "metadata": {},
   "outputs": [],
   "source": [
    "X = df.iloc[:, :-1].values  # Extract the features\n",
    "y = df.iloc[:, -1].values  # Extract the target variable\n"
   ]
  },
  {
   "cell_type": "code",
   "execution_count": 24,
   "id": "821b1736",
   "metadata": {},
   "outputs": [],
   "source": [
    "scaler = StandardScaler()\n",
    "X = scaler.fit_transform(X)  # Scale the features"
   ]
  },
  {
   "cell_type": "code",
   "execution_count": 25,
   "id": "13a8e39c",
   "metadata": {},
   "outputs": [],
   "source": [
    "encoder = LabelEncoder()\n",
    "y = encoder.fit_transform(y)  # Encode the target variable"
   ]
  },
  {
   "cell_type": "code",
   "execution_count": 26,
   "id": "1cde3456",
   "metadata": {},
   "outputs": [],
   "source": [
    "\n",
    "# Split the dataset\n",
    "X_train, X_test, y_train, y_test = train_test_split(X, y, test_size=0.2, random_state=42)\n",
    "\n"
   ]
  },
  {
   "cell_type": "code",
   "execution_count": 51,
   "id": "0a880a04",
   "metadata": {},
   "outputs": [],
   "source": [
    "%config IPcompleter.use_jedi=False"
   ]
  },
  {
   "cell_type": "code",
   "execution_count": 53,
   "id": "295c9745",
   "metadata": {},
   "outputs": [],
   "source": [
    "class ArtificialNeuralNetwork:\n",
    "    def __init__(self, x, y):\n",
    "        self.IN      = x\n",
    "        #initialize weights with random values\n",
    "        self.W1   = np.random.rand(self.IN.shape[1],4) \n",
    "        self.W2   = np.random.rand(6,4)                 \n",
    "        self.y          = y\n",
    "        self.OUT     = np.zeros(self.y.shape)\n",
    "        self.learning_rate = 0.3"
   ]
  },
  {
   "cell_type": "markdown",
   "id": "ee374fa9",
   "metadata": {},
   "source": [
    "### Activation Function - Sigmoid "
   ]
  },
  {
   "cell_type": "code",
   "execution_count": 54,
   "id": "5e685c4e",
   "metadata": {},
   "outputs": [
    {
     "data": {
      "image/png": "[encoded data removed]",
      "text/plain": [
       "<Figure size 2000x1000 with 1 Axes>"
      ]
     },
     "metadata": {},
     "output_type": "display_data"
    }
   ],
   "source": [
    "import math\n",
    "\n",
    "def sigmoid(x):\n",
    "    a = []\n",
    "    for item in x:\n",
    "        a.append(1/(1+math.exp(-item)))\n",
    "    return a\n",
    "\n",
    "import matplotlib.pyplot as plt\n",
    "import numpy as np\n",
    "\n",
    "x = np.arange(-10., 10., 0.2)\n",
    "sig = sigmoid(x)\n",
    "plt.figure(figsize=(20,10))\n",
    "plt.plot(x, sig)\n",
    "plt.show()"
   ]
  },
  {
   "cell_type": "code",
   "execution_count": 55,
   "id": "7d3082af",
   "metadata": {},
   "outputs": [],
   "source": [
    "def sigmoid_derivative(x):\n",
    "    return x * (1.0 - x)"
   ]
  },
  {
   "cell_type": "code",
   "execution_count": 56,
   "id": "cafdb0df",
   "metadata": {},
   "outputs": [
    {
     "data": {
      "image/png": "[encoded data removed]",
      "text/plain": [
       "<Figure size 2000x1000 with 1 Axes>"
      ]
     },
     "metadata": {},
     "output_type": "display_data"
    }
   ],
   "source": [
    "x = np.arange(-10., 10., 0.2)\n",
    "sig = sigmoid_derivative(x)\n",
    "plt.figure(figsize=(20,10))\n",
    "plt.plot(x, sig)\n",
    "plt.show()"
   ]
  },
  {
   "cell_type": "markdown",
   "id": "f8cf9242",
   "metadata": {},
   "source": [
    "### Loss function - Mear Squared Error:\n"
   ]
  },
  {
   "cell_type": "code",
   "execution_count": 57,
   "id": "88dd6c02",
   "metadata": {},
   "outputs": [],
   "source": [
    "def mse_loss(y_true, y_pred):\n",
    "  # y_true and y_pred are numpy arrays of the same length.\n",
    "  return ((y_true - y_pred) ** 2).mean()\n",
    "\n",
    "def mse_loss_derivative(y_true, y_pred):\n",
    "  # y_true and y_pred are numpy arrays of the same length.\n",
    "  return (2*(y_true - y_pred))"
   ]
  },
  {
   "cell_type": "code",
   "execution_count": 58,
   "id": "f74c71b9",
   "metadata": {},
   "outputs": [],
   "source": [
    "def feed_forward(self):\n",
    "    self.HIDDEN_LAYER_1 = sigmoid(np.dot(self.IN, self.W1))\n",
    "    self.output = sigmoid(np.dot(self.HIDDEN_LAYER_1, self.W2))"
   ]
  },
  {
   "cell_type": "code",
   "execution_count": 59,
   "id": "1fcd7b3f",
   "metadata": {},
   "outputs": [],
   "source": [
    "def d_W2(self):\n",
    "    d_W2 = np.dot(self.HIDDEN_LAYER_1.T, (mse_loss_derivative(self.y, self.output) * sigmoid_derivative(self.output)))"
   ]
  },
  {
   "cell_type": "code",
   "execution_count": 60,
   "id": "177c3bf9",
   "metadata": {},
   "outputs": [],
   "source": [
    "def back_propagate(self):\n",
    "    # application of the chain rule to find derivative of the loss function with respect to W2 and W1\n",
    "    print(self.HIDDEN_LAYER_1.T)\n",
    "    d_W2 = np.dot(self.HIDDEN_LAYER_1.T, (mse_loss_derivative(self.y, self.output) * sigmoid_derivative(self.output)))\n",
    "    print(d_W2)\n",
    "    d_W1 = np.dot(self.IN.T,  (np.dot(mse_loss_derivative(self.y, self.output) * sigmoid_derivative(self.output), self.W2.T) * sigmoid_derivative(self.HIDDEN_LAYER_1)))\n",
    "\n",
    "    # update the weights with the derivative (slope) of the loss function\n",
    "    self.W1 += self.learning_rate*d_W1\n",
    "    self.W2 += self.learning_rate*d_W2"
   ]
  },
  {
   "cell_type": "markdown",
   "id": "b6f224ec",
   "metadata": {},
   "source": [
    " ### Putting it all together"
   ]
  },
  {
   "cell_type": "code",
   "execution_count": 61,
   "id": "61b6273b",
   "metadata": {},
   "outputs": [],
   "source": [
    "import numpy as np\n",
    "\n",
    "def sigmoid(x):\n",
    "    return 1.0/(1+ np.exp(-x))\n",
    "\n",
    "def sigmoid_derivative(x):\n",
    "    return x * (1.0 - x)\n",
    "\n",
    "def mse_loss(y_true, y_pred):\n",
    "  # y_true and y_pred are numpy arrays of the same length.\n",
    "  return ((y_true - y_pred) ** 2).mean()\n",
    "\n",
    "def mse_loss_derivative(y_true, y_pred):\n",
    "  # y_true and y_pred are numpy arrays of the same length.\n",
    "  return (2*(y_true - y_pred))\n",
    "\n",
    "class ArtificialNeuralNetwork:\n",
    "    def __init__(self, x, y):\n",
    "        self.IN      = x\n",
    "        self.W1   = np.random.rand(self.IN.shape[1],4) \n",
    "        self.W2   = np.random.rand(4,1)                 \n",
    "        self.y          = y\n",
    "        self.OUT     = np.zeros(self.y.shape)\n",
    "        self.learning_rate = 0.3\n",
    "\n",
    "    def feed_forward(self):\n",
    "        self.HIDDEN_LAYER_1 = sigmoid(np.dot(self.IN, self.W1))\n",
    "        self.output = sigmoid(np.dot(self.HIDDEN_LAYER_1, self.W2))\n",
    "\n",
    "    def back_propagate(self):\n",
    "        # application of the chain rule to find derivative of the loss function with respect to W2 and W1\n",
    "        print(self.HIDDEN_LAYER_1.T)\n",
    "        d_W2 = np.dot(self.HIDDEN_LAYER_1.T, (mse_loss_derivative(self.y, self.output) * sigmoid_derivative(self.output)))\n",
    "        print(d_W2)\n",
    "        d_W1 = np.dot(self.IN.T,  (np.dot(mse_loss_derivative(self.y, self.output) * sigmoid_derivative(self.output), self.W2.T) * sigmoid_derivative(self.HIDDEN_LAYER_1)))\n",
    "\n",
    "        # update the weights with the derivative (slope) of the loss function\n",
    "        self.W1 += self.learning_rate*d_W1\n",
    "        self.W2 += self.learning_rate*d_W2\n",
    "\n",
    "    def train(self, epochs,learning_rate):\n",
    "        self.learning_rate=learning_rate\n",
    "        for i in range(epochs):\n",
    "            self.feed_forward()\n",
    "            self.back_propagate()\n",
    "        print(\"Successfully Trained the Model\")\n",
    "        print(\"Weights 1:\", self.W1)\n",
    "        print(\"Weights 2:\", self.W2)\n",
    "    \n",
    "    def print_output(self):\n",
    "        print(self.output)"
   ]
  },
  {
   "cell_type": "code",
   "execution_count": 62,
   "id": "8dcf3dc4",
   "metadata": {},
   "outputs": [
    {
     "name": "stdout",
     "output_type": "stream",
     "text": [
      "[[0.61884092 0.80927506 0.70759971 0.86347179]\n",
      " [0.71371629 0.81466146 0.85713877 0.91363214]\n",
      " [0.61825361 0.79537847 0.68186264 0.83724336]\n",
      " [0.65362666 0.78770736 0.81997427 0.89955727]]\n",
      "[[-0.26837668]\n",
      " [-0.29609855]\n",
      " [-0.26464679]\n",
      " [-0.28056305]]\n",
      "[[0.61254805 0.80408453 0.70087962 0.85881417]\n",
      " [0.71040433 0.8117917  0.85477783 0.91188915]\n",
      " [0.61792497 0.79508652 0.68148508 0.83695146]\n",
      " [0.64848395 0.78321064 0.81597597 0.8967304 ]]\n",
      "[[-0.27695884]\n",
      " [-0.30567941]\n",
      " [-0.2751494 ]\n",
      " [-0.2893879 ]]\n",
      "Successfully Trained the Model\n",
      "Weights 1: [[0.38889964 0.87298491 0.28067868 0.87354858]\n",
      " [0.94799278 0.5625282  0.87615588 0.66907041]\n",
      " [0.43571864 0.88521291 0.48414387 0.59394039]]\n",
      "Weights 2: [[ 0.4991635 ]\n",
      " [ 0.26799246]\n",
      " [-0.2311524 ]\n",
      " [ 0.43370756]]\n"
     ]
    }
   ],
   "source": [
    "X = np.array([[0,0,1],\n",
    "              [0,1,1],\n",
    "              [1,0,1],\n",
    "              [1,1,1]])\n",
    "y = np.array([[0],[1],[1],[0]])\n",
    "epochs = 2\n",
    "learning_rate = 0.5\n",
    "ann = ArtificialNeuralNetwork(X,y)\n",
    "ann.train(epochs, learning_rate)"
   ]
  },
  {
   "cell_type": "code",
   "execution_count": 63,
   "id": "175814e3",
   "metadata": {},
   "outputs": [
    {
     "name": "stdout",
     "output_type": "stream",
     "text": [
      "[[0.73239501]\n",
      " [0.7743353 ]\n",
      " [0.77115048]\n",
      " [0.79765779]]\n"
     ]
    }
   ],
   "source": [
    "ann.print_output()"
   ]
  },
  {
   "cell_type": "code",
   "execution_count": null,
   "id": "82bdb764",
   "metadata": {},
   "outputs": [],
   "source": []
  }
 ],
 "metadata": {
  "kernelspec": {
   "display_name": "Python 3 (ipykernel)",
   "language": "python",
   "name": "python3"
  },
  "language_info": {
   "codemirror_mode": {
    "name": "ipython",
    "version": 3
   },
   "file_extension": ".py",
   "mimetype": "text/x-python",
   "name": "python",
   "nbconvert_exporter": "python",
   "pygments_lexer": "ipython3",
   "version": "3.9.16"
  }
 },
 "nbformat": 4,
 "nbformat_minor": 5
}
